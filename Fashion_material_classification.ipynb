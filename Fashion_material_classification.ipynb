{
 "cells": [
  {
   "cell_type": "code",
   "execution_count": 1,
   "metadata": {},
   "outputs": [],
   "source": [
    "import numpy as np\n",
    "import os\n",
    "import PIL\n",
    "from PIL import Image\n",
    "import pickle\n",
    "from tqdm import tqdm\n",
    "import tensorflow as tf\n",
    "from sklearn.multioutput import MultiOutputClassifier\n",
    "from sklearn.metrics import accuracy_score\n",
    "import pandas as pd \n",
    "from xgboost import XGBClassifier\n",
    "import gc"
   ]
  },
  {
   "cell_type": "code",
   "execution_count": 2,
   "metadata": {},
   "outputs": [],
   "source": [
    "train_images_path = '/Users/denish/Desktop/Denish /Imp Projects/Fashion-material-image-classification/Data/train'"
   ]
  },
  {
   "cell_type": "code",
   "execution_count": 3,
   "metadata": {},
   "outputs": [],
   "source": [
    "test_image_path = '/Users/denish/Desktop/Denish /Imp Projects/Fashion-material-image-classification/Data/test'"
   ]
  },
  {
   "cell_type": "code",
   "execution_count": 4,
   "metadata": {},
   "outputs": [],
   "source": [
    "validation_image_path = '/Users/denish/Desktop/Denish /Imp Projects/Fashion-material-image-classification/Data/validation'"
   ]
  },
  {
   "cell_type": "code",
   "execution_count": 5,
   "metadata": {},
   "outputs": [],
   "source": [
    "def load_image(path):\n",
    "    '''\n",
    "    Fetch image from disk\n",
    "    '''\n",
    "    from tensorflow.keras.preprocessing import image\n",
    "    size = (128, 128)\n",
    "    img = image.load_img(path, target_size=size)\n",
    "    img = image.img_to_array(img)\n",
    "    return img"
   ]
  },
  {
   "cell_type": "code",
   "execution_count": 7,
   "metadata": {},
   "outputs": [],
   "source": [
    "csv = '/Users/denish/Desktop/Denish /Imp Projects/Fashion-material-image-classification/train_labels.csv'"
   ]
  },
  {
   "cell_type": "code",
   "execution_count": 8,
   "metadata": {},
   "outputs": [],
   "source": [
    "def load_data(folder_path,csv_path):\n",
    "    df = pd.read_csv(csv_path)\n",
    "    x = df.iloc[:,1:].values\n",
    "    y = df.iloc[:,0:1].values\n",
    "    img = list()\n",
    "    ylist = list()\n",
    "    i=0\n",
    "    while i<len(x):\n",
    "        try:\n",
    "            img.append(load_image(os.path.join(folder_path,f'{x[i][0]}.jpg')))\n",
    "            ylist.append(eval(y[i][0]))\n",
    "        except:\n",
    "            pass\n",
    "#             print(x[i])\n",
    "        i+=1\n",
    "    return img,ylist\n",
    "        "
   ]
  },
  {
   "cell_type": "code",
   "execution_count": 9,
   "metadata": {},
   "outputs": [
    {
     "data": {
      "text/plain": [
       "267"
      ]
     },
     "execution_count": 9,
     "metadata": {},
     "output_type": "execute_result"
    }
   ],
   "source": [
    "\n",
    "gc.collect()"
   ]
  },
  {
   "cell_type": "code",
   "execution_count": 10,
   "metadata": {},
   "outputs": [],
   "source": [
    "# from keras.utils.np_utils import to_categorical\n",
    "# to_categorical(y_train)"
   ]
  },
  {
   "cell_type": "code",
   "execution_count": 11,
   "metadata": {},
   "outputs": [],
   "source": [
    "def make_cat_dic(l1,l2):\n",
    "    dic = {}\n",
    "    i=0\n",
    "    for e in l1:\n",
    "        for f in e:\n",
    "            if f not in list(dic.keys()):\n",
    "                dic[f] = i\n",
    "                i+=1\n",
    "    for e in l2:\n",
    "        for f in e:\n",
    "            if f not in list(dic.keys()):\n",
    "                dic[f] = i\n",
    "                i+=1\n",
    "    return dic"
   ]
  },
  {
   "cell_type": "code",
   "execution_count": 12,
   "metadata": {},
   "outputs": [],
   "source": [
    "def convert_categorical(y, dic):\n",
    "    i=0\n",
    "    for yt in tqdm(y):\n",
    "        temp = np.zeros(len(list(dic.keys())))\n",
    "        for e in yt:\n",
    "            temp[dic[e]] = 1\n",
    "        y[i] = temp\n",
    "        i+=1\n",
    "        \n",
    "    return y, dic"
   ]
  },
  {
   "cell_type": "code",
   "execution_count": null,
   "metadata": {},
   "outputs": [],
   "source": []
  },
  {
   "cell_type": "code",
   "execution_count": 13,
   "metadata": {},
   "outputs": [],
   "source": [
    "# val_images_path = '/Users/divy/Downloads/Data/validation'"
   ]
  },
  {
   "cell_type": "code",
   "execution_count": 14,
   "metadata": {},
   "outputs": [],
   "source": [
    "val_csv = '/Users/denish/Desktop/Denish /Imp Projects/Fashion-material-image-classification/validation_labels.csv'"
   ]
  },
  {
   "cell_type": "code",
   "execution_count": 15,
   "metadata": {},
   "outputs": [],
   "source": [
    "x_train,y_train = load_data(train_images_path,csv)"
   ]
  },
  {
   "cell_type": "code",
   "execution_count": 16,
   "metadata": {},
   "outputs": [],
   "source": [
    "x_val,y_val = load_data(validation_image_path,val_csv)"
   ]
  },
  {
   "cell_type": "code",
   "execution_count": 17,
   "metadata": {},
   "outputs": [],
   "source": [
    "dic = make_cat_dic(y_train, y_val)"
   ]
  },
  {
   "cell_type": "code",
   "execution_count": 18,
   "metadata": {},
   "outputs": [
    {
     "name": "stderr",
     "output_type": "stream",
     "text": [
      "100%|██████████| 14720/14720 [00:00<00:00, 152965.29it/s]\n"
     ]
    }
   ],
   "source": [
    "y_train_cat, dic = convert_categorical(y_train, dic)"
   ]
  },
  {
   "cell_type": "code",
   "execution_count": 19,
   "metadata": {},
   "outputs": [
    {
     "name": "stderr",
     "output_type": "stream",
     "text": [
      "100%|██████████| 3000/3000 [00:00<00:00, 108256.87it/s]\n"
     ]
    }
   ],
   "source": [
    "y_val_cat = convert_categorical(y_val, dic)"
   ]
  },
  {
   "cell_type": "code",
   "execution_count": 20,
   "metadata": {},
   "outputs": [],
   "source": [
    "import tensorflow as tf\n",
    "from tensorflow import keras\n",
    "from tensorflow.keras.layers import Conv2D, Dense, Flatten\n",
    "model = keras.models.Sequential()\n",
    "\n",
    "model.add(Conv2D(64, kernel_size=5, strides=2, activation='relu', input_shape=(x_train[0].shape[0], x_train[0].shape[1], x_train[0].shape[2])))\n",
    "model.add(Conv2D(32, kernel_size=3, strides=1, activation='relu'))       \n",
    "model.add(Conv2D(16, kernel_size=3, strides=1, activation='relu'))   \n",
    "model.add(Conv2D(32, kernel_size=3, strides=1, activation='relu'))   \n",
    "model.add(Conv2D(64, kernel_size=3, strides=1, activation='relu'))   \n",
    "model.add(Flatten())\n",
    "model.add(Dense(128, activation='relu'))\n",
    "\n",
    "model.add(Dense(len(dic), activation='sigmoid'))   # Final Layer using Softmax\n",
    "\n",
    "model.compile(loss='binary_crossentropy', optimizer='adam', metrics=['accuracy'])"
   ]
  },
  {
   "cell_type": "code",
   "execution_count": 21,
   "metadata": {},
   "outputs": [
    {
     "name": "stdout",
     "output_type": "stream",
     "text": [
      "Epoch 1/3\n",
      "1472/1472 [==============================] - 436s 295ms/step - loss: 0.1082 - accuracy: 0.7021\n",
      "Epoch 2/3\n",
      "1472/1472 [==============================] - 371s 252ms/step - loss: 0.0782 - accuracy: 0.7126\n",
      "Epoch 3/3\n",
      "1472/1472 [==============================] - 373s 253ms/step - loss: 0.0653 - accuracy: 0.6946\n"
     ]
    },
    {
     "data": {
      "text/plain": [
       "<keras.callbacks.History at 0x7ff04a77e040>"
      ]
     },
     "execution_count": 21,
     "metadata": {},
     "output_type": "execute_result"
    }
   ],
   "source": [
    "model.fit(np.asarray(x_train), np.asarray(y_train_cat), 10, 3)"
   ]
  },
  {
   "cell_type": "code",
   "execution_count": 22,
   "metadata": {},
   "outputs": [
    {
     "data": {
      "text/plain": [
       "array([[5.9444338e-02, 9.3135571e-01, 5.7078660e-02, ..., 6.4096284e-06,\n",
       "        7.7640383e-09, 5.4933835e-08],\n",
       "       [3.0837655e-03, 6.9009334e-01, 1.2742996e-02, ..., 2.1396509e-08,\n",
       "        2.4513903e-07, 5.8984352e-07],\n",
       "       [3.1822383e-02, 8.3117115e-01, 1.1612684e-02, ..., 1.0629625e-06,\n",
       "        2.2263379e-07, 3.6485590e-06],\n",
       "       ...,\n",
       "       [5.8395207e-02, 9.1856521e-01, 2.1556348e-02, ..., 2.2675711e-06,\n",
       "        1.1510832e-07, 7.0115959e-07],\n",
       "       [3.6936194e-02, 4.0352106e-02, 2.3494989e-02, ..., 1.9285004e-10,\n",
       "        6.7658242e-08, 4.9461863e-07],\n",
       "       [7.5612664e-03, 9.8622620e-01, 3.2601386e-02, ..., 8.4066880e-07,\n",
       "        2.9624962e-07, 4.3729941e-07]], dtype=float32)"
      ]
     },
     "execution_count": 22,
     "metadata": {},
     "output_type": "execute_result"
    }
   ],
   "source": [
    "model.predict(np.asarray(x_val))"
   ]
  },
  {
   "cell_type": "code",
   "execution_count": 30,
   "metadata": {},
   "outputs": [],
   "source": [
    "# !pip install ann_visualizer\n",
    "from ann_visualizer.visualize import ann_viz;\n",
    "\n",
    "ann_viz(model, title=\"my neural newtork\")"
   ]
  },
  {
   "cell_type": "code",
   "execution_count": 35,
   "metadata": {},
   "outputs": [
    {
     "name": "stdout",
     "output_type": "stream",
     "text": [
      "Collecting visualkeras\n",
      "  Downloading visualkeras-0.0.2-py3-none-any.whl (12 kB)\n",
      "Requirement already satisfied: numpy>=1.18.1 in /Users/denish/opt/anaconda3/lib/python3.8/site-packages (from visualkeras) (1.22.1)\n",
      "Requirement already satisfied: pillow>=6.2.0 in /Users/denish/opt/anaconda3/lib/python3.8/site-packages (from visualkeras) (9.0.0)\n",
      "Collecting aggdraw>=1.3.11\n",
      "  Downloading aggdraw-1.3.16-cp38-cp38-macosx_10_9_x86_64.whl (419 kB)\n",
      "\u001b[2K     \u001b[90m━━━━━━━━━━━━━━━━━━━━━━━━━━━━━━━━━━━━━━━\u001b[0m \u001b[32m419.2/419.2 kB\u001b[0m \u001b[31m6.3 MB/s\u001b[0m eta \u001b[36m0:00:00\u001b[0ma \u001b[36m0:00:01\u001b[0m\n",
      "\u001b[?25hInstalling collected packages: aggdraw, visualkeras\n",
      "Successfully installed aggdraw-1.3.16 visualkeras-0.0.2\n",
      "\n",
      "\u001b[1m[\u001b[0m\u001b[34;49mnotice\u001b[0m\u001b[1;39;49m]\u001b[0m\u001b[39;49m A new release of pip is available: \u001b[0m\u001b[31;49m23.0.1\u001b[0m\u001b[39;49m -> \u001b[0m\u001b[32;49m23.1.2\u001b[0m\n",
      "\u001b[1m[\u001b[0m\u001b[34;49mnotice\u001b[0m\u001b[1;39;49m]\u001b[0m\u001b[39;49m To update, run: \u001b[0m\u001b[32;49mpip install --upgrade pip\u001b[0m\n"
     ]
    },
    {
     "data": {
      "image/png": "[encoded data removed]",
      "text/plain": [
       "<PIL.Image.Image image mode=RGBA size=678x331 at 0x7FEED80A9580>"
      ]
     },
     "execution_count": 35,
     "metadata": {},
     "output_type": "execute_result"
    }
   ],
   "source": [
    "!pip install visualkeras\n",
    "import visualkeras\n",
    "visualkeras.layered_view(model)"
   ]
  },
  {
   "cell_type": "code",
   "execution_count": null,
   "metadata": {},
   "outputs": [],
   "source": []
  }
 ],
 "metadata": {
  "kernelspec": {
   "display_name": "Python 3 (ipykernel)",
   "language": "python",
   "name": "python3"
  },
  "language_info": {
   "codemirror_mode": {
    "name": "ipython",
    "version": 3
   },
   "file_extension": ".py",
   "mimetype": "text/x-python",
   "name": "python",
   "nbconvert_exporter": "python",
   "pygments_lexer": "ipython3",
   "version": "3.8.3"
  }
 },
 "nbformat": 4,
 "nbformat_minor": 4
}
